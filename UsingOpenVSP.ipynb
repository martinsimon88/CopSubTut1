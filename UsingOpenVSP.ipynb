{
 "cells": [
  {
   "cell_type": "code",
   "execution_count": 1,
   "metadata": {
    "collapsed": true
   },
   "outputs": [],
   "source": [
    "from vsp import *\n",
    "import numpy as np\n",
    "import vsp as vsp\n",
    "from subprocess import call"
   ]
  },
  {
   "cell_type": "code",
   "execution_count": 2,
   "metadata": {
    "collapsed": true
   },
   "outputs": [],
   "source": [
    "def UpdateGeometry(actions):\n",
    "\n",
    "    span = 1\n",
    "\n",
    "    # OpenVSP Script Part\n",
    "    stdout = vsp.cvar.cstdout\n",
    "    errorMgr = vsp.ErrorMgrSingleton_getInstance()\n",
    "\n",
    "    # WingBodyTestCase\n",
    "    vsp.VSPRenew();\n",
    "    errorMgr.PopErrorAndPrint(stdout)\n",
    "\n",
    "    # Add Wing\n",
    "    WingBody = vsp.AddGeom(\"WING\", \"\")\n",
    "\n",
    "    # Insert A Couple More Sections\n",
    "    InsertXSec(WingBody, 1, XS_FOUR_SERIES);\n",
    "    InsertXSec(WingBody, 1, XS_FOUR_SERIES);\n",
    "    Update();\n",
    "\n",
    "    # Cut The Original Section\n",
    "    CutXSec(WingBody, 1);\n",
    "\n",
    "    # Change Driver\n",
    "    #SetDriverGroup(WingBody, 1, AREA_WSECT_DRIVER, ROOTC_WSECT_DRIVER, TIPC_WSECT_DRIVER);\n",
    "    SetParmVal(WingBody, \"RotateAirfoilMatchDideralFlag\", \"WingGeom\", 1.0);\n",
    "\n",
    "\n",
    "\n",
    "    #Work on blending\n",
    "    SetParmVal(WingBody, \"InLEMode\", \"XSec_0\", 1);\n",
    "    SetParmVal(WingBody, \"OutLEMode\", \"XSec_0\", 1);\n",
    "    SetParmVal(WingBody, \"InLEMode\", \"XSec_1\", 1);\n",
    "    SetParmVal(WingBody, \"OutLEMode\", \"XSec_1\", 1);\n",
    "    SetParmVal(WingBody, \"InLEMode\", \"XSec_2\", 2);\n",
    "    SetParmVal(WingBody, \"OutLEMode\", \"XSec_2\", 2);\n",
    "\n",
    "    SetParmVal(WingBody, \"InTEMode\", \"XSec_0\", 1);\n",
    "    SetParmVal(WingBody, \"OutTEMode\", \"XSec_0\", 1);\n",
    "    SetParmVal(WingBody, \"InTEMode\", \"XSec_1\", 1);\n",
    "    SetParmVal(WingBody, \"OutTEMode\", \"XSec_1\", 1);\n",
    "    SetParmVal(WingBody, \"InTEMode\", \"XSec_2\", 5);\n",
    "    SetParmVal(WingBody, \"OutTEMode\", \"XSec_2\", 5);\n",
    "    Update();\n",
    "\n",
    "\n",
    "\n",
    "    # Change Some Parameters 1st Section\n",
    "\n",
    "    SetParmVal(WingBody, \"Root_Chord\", \"XSec_1\", 0.7);\n",
    "    SetParmVal(WingBody, \"Tip_Chord\", \"XSec_1\", 0.3);\n",
    "    SetParmVal(WingBody, \"Span\", \"XSec_1\", 0.25*span );\n",
    "    SetParmVal(WingBody, \"Sweep\", \"XSec_1\", 35.0 );\n",
    "    Update();\n",
    "\n",
    "    # Change Some Parameters 2nd Section\n",
    "    SetParmVal(WingBody, \"Root_Chord\", \"XSec_2\", 0.3);\n",
    "    SetParmVal(WingBody, \"Tip_Chord\", \"XSec_2\", 0.1);\n",
    "    SetParmVal(WingBody, \"Span\", \"XSec_2\", 0.75*span );\n",
    "    SetParmVal(WingBody, \"Sweep\", \"XSec_2\", 35.0 );\n",
    "    Update();\n",
    "\n",
    "    #Use airfoil points\n",
    "    for i in range(0,1):\n",
    "        xsurf_id = vsp.GetXSecSurf(WingBody, i)\n",
    "        ChangeXSecShape(xsurf_id, i, vsp.XS_FILE_AIRFOIL)\n",
    "        xsec = vsp.GetXSec(xsurf_id, i)\n",
    "        ReadFileAirfoil(xsec,\"/home/simonx/Documents/Udacity/Projects/capstone/PESM_NSGA2_OpenVSP/Archive/000001.dat\"); #SG6043\n",
    "        Update();\n",
    "\n",
    "\n",
    "    # File basename\n",
    "    baseName = \"WingBody\";\n",
    "    csvName = baseName + \"_DegenGeom.csv\";\n",
    "    meshstlName = baseName + \"_DegenGeom.stl\";\n",
    "    vspName = baseName + \".vsp3\";\n",
    "    stlName = baseName + \".stl\";\n",
    "\n",
    "    # Set File Name\n",
    "    SetComputationFileName(DEGEN_GEOM_CSV_TYPE, csvName);\n",
    "    SetComputationFileName(CFD_STL_TYPE, meshstlName);\n",
    "\n",
    "    WriteVSPFile(vspName)\n",
    "    ExportFile(stlName, SET_ALL, EXPORT_STL)\n",
    "    ComputeDegenGeom( SET_ALL, DEGEN_GEOM_CSV_TYPE );\n",
    "    ComputeCFDMesh( SET_ALL, CFD_STL_TYPE );        # Mesh\n",
    "\n",
    "    # Check for errors\n",
    "\n",
    "    num_err = errorMgr.GetNumTotalErrors()\n",
    "    for i in range(0, num_err):\n",
    "        err = errorMgr.PopLastError()\n",
    "        print \"error = \", err.m_ErrorString\n"
   ]
  },
  {
   "cell_type": "code",
   "execution_count": 3,
   "metadata": {},
   "outputs": [],
   "source": [
    "#These numbers are not connected at the moment\n",
    "actions = [1,2,3,4,5,6,7,8]\n",
    "#After running you will have some new geometry and mesh documents in the folder\n",
    "UpdateGeometry(actions)"
   ]
  },
  {
   "cell_type": "code",
   "execution_count": null,
   "metadata": {},
   "outputs": [],
   "source": [
    "# Analysis: This does some vortex panel method based abalysis of the wing (not useful for rocket)\n",
    "#After running this you will have some new analysis documents in the folder\n",
    "call([\"vspaero\", \"-omp\", \"8\", \"WingBody_DegenGeom\"])"
   ]
  },
  {
   "cell_type": "code",
   "execution_count": null,
   "metadata": {
    "collapsed": true
   },
   "outputs": [],
   "source": [
    "#This does some more heavy analysis for stability etc (not useful for rocket)\n",
    "#After running this you will have some new analysis documents in the folder\n",
    "call([\"vspaero\", \"-omp\", \"8\", \"-stab\", \"WingBody_DegenGeom\"])"
   ]
  },
  {
   "cell_type": "code",
   "execution_count": null,
   "metadata": {},
   "outputs": [],
   "source": [
    "# Open analysis files\n",
    "call([\"vspviewer\", \"WingBody_DegenGeom\"])"
   ]
  },
  {
   "cell_type": "code",
   "execution_count": null,
   "metadata": {
    "collapsed": true
   },
   "outputs": [],
   "source": [
    "#Open created OpenVSP document in OpenVSP\n",
    "call([\"vsp\", \"WingBody.vsp3\"])\n"
   ]
  },
  {
   "cell_type": "code",
   "execution_count": null,
   "metadata": {
    "collapsed": true
   },
   "outputs": [],
   "source": [
    "#Open exported document in ParaView\n",
    "call([\"paraview\", \"WingBody.stl\"])"
   ]
  }
 ],
 "metadata": {
  "kernelspec": {
   "display_name": "Python 2",
   "language": "python",
   "name": "python2"
  },
  "language_info": {
   "codemirror_mode": {
    "name": "ipython",
    "version": 2
   },
   "file_extension": ".py",
   "mimetype": "text/x-python",
   "name": "python",
   "nbconvert_exporter": "python",
   "pygments_lexer": "ipython2",
   "version": "2.7.12"
  }
 },
 "nbformat": 4,
 "nbformat_minor": 2
}
